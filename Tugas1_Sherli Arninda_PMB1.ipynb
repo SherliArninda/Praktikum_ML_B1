{
  "cells": [
    {
      "cell_type": "markdown",
      "source": [
        "Tugas Praktikum ML Lab B1\n",
        "\n",
        "Pertemuan 1\n",
        "\n",
        "Nama : Sherli Arninda\n",
        "\n",
        "NIM : 24060122120028\n",
        "\n",
        "Nama Dataset : Car Evaluation\n",
        "\n",
        "Link : https://archive.ics.uci.edu/dataset/19/car+evaluation"
      ],
      "metadata": {
        "id": "ymY3sul2pfSg"
      }
    },
    {
      "cell_type": "markdown",
      "source": [
        "1. Eksplorasi dengan Algoritma Decision Tree & Random Forest"
      ],
      "metadata": {
        "id": "gPk-DaGTiqDh"
      }
    },
    {
      "cell_type": "code",
      "execution_count": null,
      "metadata": {
        "colab": {
          "base_uri": "https://localhost:8080/"
        },
        "id": "1fe1c49b",
        "outputId": "e4b5d557-3297-477b-b2cf-6d80c951bd56"
      },
      "outputs": [
        {
          "output_type": "stream",
          "name": "stdout",
          "text": [
            "Decision Tree Accuracy: 0.9710982658959537\n",
            "Random Forest Accuracy: 0.9672447013487476\n",
            "\n",
            "Classification Report for Decision Tree:\n",
            "               precision    recall  f1-score   support\n",
            "\n",
            "           0       0.93      0.94      0.94       118\n",
            "           1       0.75      0.95      0.84        19\n",
            "           2       1.00      0.99      0.99       358\n",
            "           3       1.00      0.88      0.93        24\n",
            "\n",
            "    accuracy                           0.97       519\n",
            "   macro avg       0.92      0.94      0.93       519\n",
            "weighted avg       0.97      0.97      0.97       519\n",
            "\n",
            "\n",
            "Classification Report for Random Forest:\n",
            "               precision    recall  f1-score   support\n",
            "\n",
            "           0       0.93      0.92      0.93       118\n",
            "           1       0.71      0.89      0.79        19\n",
            "           2       1.00      0.99      0.99       358\n",
            "           3       0.95      0.88      0.91        24\n",
            "\n",
            "    accuracy                           0.97       519\n",
            "   macro avg       0.90      0.92      0.91       519\n",
            "weighted avg       0.97      0.97      0.97       519\n",
            "\n"
          ]
        }
      ],
      "source": [
        "import pandas as pd\n",
        "from sklearn.model_selection import train_test_split\n",
        "from sklearn.tree import DecisionTreeClassifier\n",
        "from sklearn.ensemble import RandomForestClassifier\n",
        "from sklearn.metrics import accuracy_score, classification_report\n",
        "from sklearn.preprocessing import LabelEncoder\n",
        "\n",
        "# Load dataset\n",
        "url = \"https://archive.ics.uci.edu/ml/machine-learning-databases/car/car.data\"\n",
        "names = [\"buying\", \"maint\", \"doors\", \"persons\", \"lug_boot\", \"safety\", \"class\"]\n",
        "dataset = pd.read_csv(url, names=names)\n",
        "\n",
        "# Encode fitur kategorikal ke numerik\n",
        "encoder = LabelEncoder()\n",
        "for column in dataset.columns:\n",
        "    dataset[column] = encoder.fit_transform(dataset[column])\n",
        "\n",
        "# Split dataset\n",
        "X = dataset.iloc[:, :-1]\n",
        "y = dataset.iloc[:, -1]\n",
        "X_train, X_test, y_train, y_test = train_test_split(X, y, test_size=0.3, random_state=42)\n",
        "\n",
        "# Decision Tree\n",
        "dt_model = DecisionTreeClassifier(random_state=42)\n",
        "dt_model.fit(X_train, y_train)\n",
        "dt_predictions = dt_model.predict(X_test)\n",
        "\n",
        "# Random Forest\n",
        "rf_model = RandomForestClassifier(random_state=42, n_estimators=100)\n",
        "rf_model.fit(X_train, y_train)\n",
        "rf_predictions = rf_model.predict(X_test)\n",
        "\n",
        "# Evaluasi Model\n",
        "print(\"Decision Tree Accuracy:\", accuracy_score(y_test, dt_predictions))\n",
        "print(\"Random Forest Accuracy:\", accuracy_score(y_test, rf_predictions))\n",
        "print(\"\\nClassification Report for Decision Tree:\\n\", classification_report(y_test, dt_predictions))\n",
        "print(\"\\nClassification Report for Random Forest:\\n\", classification_report(y_test, rf_predictions))\n"
      ]
    },
    {
      "cell_type": "markdown",
      "source": [
        "2. Summary Datase"
      ],
      "metadata": {
        "id": "tcFqbQ_gVG_j"
      }
    },
    {
      "cell_type": "code",
      "source": [
        "import pandas\n",
        "url = \"https://archive.ics.uci.edu/ml/machine-learning-databases/car/car.data\"\n",
        "names = [\"buying\", \"maint\", \"doors\", \"persons\", \"lug_boot\", \"safety\", \"class\"]\n",
        "dataset = pandas.read_csv(url, names=names)"
      ],
      "metadata": {
        "id": "wOsYHipJU_An"
      },
      "execution_count": 2,
      "outputs": []
    },
    {
      "cell_type": "code",
      "source": [
        "print(dataset.shape) #cetak dimensi dataset (baris, kolom)"
      ],
      "metadata": {
        "colab": {
          "base_uri": "https://localhost:8080/"
        },
        "id": "_QJPoPJ6VSN1",
        "outputId": "a5e728c1-2c24-4db4-a527-8034e17df637"
      },
      "execution_count": 3,
      "outputs": [
        {
          "output_type": "stream",
          "name": "stdout",
          "text": [
            "(1728, 7)\n"
          ]
        }
      ]
    },
    {
      "cell_type": "code",
      "source": [
        "print(dataset.head(20)) #cetak 20 baris pertama"
      ],
      "metadata": {
        "colab": {
          "base_uri": "https://localhost:8080/"
        },
        "id": "fs6X9SyZZz-m",
        "outputId": "34ceb838-ab70-4ee2-8073-60d02493e6b9"
      },
      "execution_count": 4,
      "outputs": [
        {
          "output_type": "stream",
          "name": "stdout",
          "text": [
            "   buying  maint doors persons lug_boot safety  class\n",
            "0   vhigh  vhigh     2       2    small    low  unacc\n",
            "1   vhigh  vhigh     2       2    small    med  unacc\n",
            "2   vhigh  vhigh     2       2    small   high  unacc\n",
            "3   vhigh  vhigh     2       2      med    low  unacc\n",
            "4   vhigh  vhigh     2       2      med    med  unacc\n",
            "5   vhigh  vhigh     2       2      med   high  unacc\n",
            "6   vhigh  vhigh     2       2      big    low  unacc\n",
            "7   vhigh  vhigh     2       2      big    med  unacc\n",
            "8   vhigh  vhigh     2       2      big   high  unacc\n",
            "9   vhigh  vhigh     2       4    small    low  unacc\n",
            "10  vhigh  vhigh     2       4    small    med  unacc\n",
            "11  vhigh  vhigh     2       4    small   high  unacc\n",
            "12  vhigh  vhigh     2       4      med    low  unacc\n",
            "13  vhigh  vhigh     2       4      med    med  unacc\n",
            "14  vhigh  vhigh     2       4      med   high  unacc\n",
            "15  vhigh  vhigh     2       4      big    low  unacc\n",
            "16  vhigh  vhigh     2       4      big    med  unacc\n",
            "17  vhigh  vhigh     2       4      big   high  unacc\n",
            "18  vhigh  vhigh     2    more    small    low  unacc\n",
            "19  vhigh  vhigh     2    more    small    med  unacc\n"
          ]
        }
      ]
    },
    {
      "cell_type": "code",
      "source": [
        "print(dataset.groupby('class').size()) #menghitung jumlah elemen (atau baris) dalam dataset untuk setiap kelompok berdasarkan kolom class"
      ],
      "metadata": {
        "colab": {
          "base_uri": "https://localhost:8080/"
        },
        "id": "B8pVInsLZ15a",
        "outputId": "eb8e3c0b-f6a1-485e-e969-4e922596aeda"
      },
      "execution_count": 5,
      "outputs": [
        {
          "output_type": "stream",
          "name": "stdout",
          "text": [
            "class\n",
            "acc       384\n",
            "good       69\n",
            "unacc    1210\n",
            "vgood      65\n",
            "dtype: int64\n"
          ]
        }
      ]
    },
    {
      "cell_type": "code",
      "source": [
        "print(dataset.describe()) #untuk mendeskripsikan statistik data meliputi count, mean, standard deviasi, nilai min, nilai max, dan quartile"
      ],
      "metadata": {
        "colab": {
          "base_uri": "https://localhost:8080/"
        },
        "id": "i55jS0CzZ8uL",
        "outputId": "e5e86311-a2d8-41b9-85ac-a913741d4e22"
      },
      "execution_count": 6,
      "outputs": [
        {
          "output_type": "stream",
          "name": "stdout",
          "text": [
            "       buying  maint doors persons lug_boot safety  class\n",
            "count    1728   1728  1728    1728     1728   1728   1728\n",
            "unique      4      4     4       3        3      3      4\n",
            "top     vhigh  vhigh     2       2    small    low  unacc\n",
            "freq      432    432   432     576      576    576   1210\n"
          ]
        }
      ]
    },
    {
      "cell_type": "code",
      "source": [
        "import pandas as pd\n",
        "import matplotlib.pyplot as plt\n",
        "from sklearn.preprocessing import LabelEncoder\n",
        "\n",
        "#mengubah data kategorikal di setiap kolom menjadi nilai numerik.Setiap kolom di dataset di-encode menggunakan objek LabelEncoder.\n",
        "label_encoders = {}\n",
        "for col in dataset.columns:\n",
        "    le = LabelEncoder()\n",
        "    dataset[col] = le.fit_transform(dataset[col])\n",
        "    label_encoders[col] = le\n",
        "\n",
        "dataset.plot(kind='box', subplots=True, layout=(3, 3), sharex=False, sharey=False) #Membuat plot boxplot untuk setiap kolom di dataset.\n",
        "plt.show()"
      ],
      "metadata": {
        "colab": {
          "base_uri": "https://localhost:8080/",
          "height": 430
        },
        "id": "tcez0RBgaG6y",
        "outputId": "6345b0c3-4de3-4edd-8f51-0004371e4d4a"
      },
      "execution_count": 10,
      "outputs": [
        {
          "output_type": "display_data",
          "data": {
            "text/plain": [
              "<Figure size 640x480 with 9 Axes>"
            ],
            "image/png": "[encoded data removed]"
          },
          "metadata": {}
        }
      ]
    },
    {
      "cell_type": "code",
      "source": [
        "dataset.hist() #membuat histogram masing-masing variabel input untuk melihat persebaran data\n",
        "plt.tight_layout()\n",
        "plt.show()"
      ],
      "metadata": {
        "colab": {
          "base_uri": "https://localhost:8080/",
          "height": 487
        },
        "id": "2L9o9NldbMvq",
        "outputId": "d3b48471-76d1-4cf2-fdca-3e650be4f893"
      },
      "execution_count": 13,
      "outputs": [
        {
          "output_type": "display_data",
          "data": {
            "text/plain": [
              "<Figure size 640x480 with 9 Axes>"
            ],
            "image/png": "[encoded data removed]"
          },
          "metadata": {}
        }
      ]
    },
    {
      "cell_type": "code",
      "source": [
        "import pandas\n",
        "from pandas.plotting import scatter_matrix\n",
        "scatter_matrix(dataset) # melihat scatterplots dari semua pasang atribut yang membantu melihat hubungan antar variabel.\n",
        "plt.show()\n"
      ],
      "metadata": {
        "colab": {
          "base_uri": "https://localhost:8080/",
          "height": 453
        },
        "id": "iO4e2ziCb2D_",
        "outputId": "22ba8e26-9dc9-4f17-efe1-a3c1d69a4a82"
      },
      "execution_count": 16,
      "outputs": [
        {
          "output_type": "display_data",
          "data": {
            "text/plain": [
              "<Figure size 640x480 with 49 Axes>"
            ],
            "image/png": "[encoded data removed]"
          },
          "metadata": {}
        }
      ]
    },
    {
      "cell_type": "markdown",
      "source": [
        "Evaluasi Algoritma (KNN, NB, SVM)"
      ],
      "metadata": {
        "id": "Kpn6jjXLcIlg"
      }
    },
    {
      "cell_type": "code",
      "source": [
        "import pandas as pd\n",
        "from sklearn import model_selection\n",
        "url = \"https://archive.ics.uci.edu/ml/machine-learning-databases/car/car.data\"\n",
        "names = [\"buying\", \"maint\", \"doors\", \"persons\", \"lug_boot\", \"safety\", \"class\"]\n",
        "dataset = pandas.read_csv(url, names=names)"
      ],
      "metadata": {
        "id": "ZFSFWA7qcT2q"
      },
      "execution_count": 19,
      "outputs": []
    },
    {
      "cell_type": "code",
      "source": [
        "# membagi dataset menjadi data pelatihan (training set) dan data validasi (validation set)\n",
        "array = dataset.values\n",
        "X = array[:,0:4]\n",
        "Y = array[:,4]\n",
        "validation_size = 0.20\n",
        "seed = 7\n",
        "X_train, X_validation, Y_train, Y_validation = model_selection.train_test_split(X, Y, test_size=validation_size, random_state=seed)"
      ],
      "metadata": {
        "id": "XAzET5xsdKFr"
      },
      "execution_count": 20,
      "outputs": []
    },
    {
      "cell_type": "code",
      "source": [
        "seed = 7 #Menetapkan random seed untuk memastikan proses yang melibatkan angka acak dapat direproduksi.\n",
        "scoring = 'accuracy' #menentukan bahwa kinerja model akan diukur menggunakan akurasi, yang cocok untuk masalah klasifikasi jika data memiliki distribusi kelas yang seimbang."
      ],
      "metadata": {
        "id": "YN9nB4Z0dOKF"
      },
      "execution_count": 21,
      "outputs": []
    },
    {
      "cell_type": "code",
      "source": [
        "import pandas as pd\n",
        "from sklearn.model_selection import train_test_split, KFold, cross_val_score\n",
        "from sklearn.neighbors import KNeighborsClassifier\n",
        "from sklearn.naive_bayes import GaussianNB\n",
        "from sklearn.svm import SVC\n",
        "from sklearn.preprocessing import LabelEncoder\n",
        "\n",
        "df = pd.DataFrame(dataset)\n",
        "\n",
        "# memisahkan dataset menjadi fitur (features) dan label (target)\n",
        "X = df.drop('class', axis=1)\n",
        "y = df['class']\n",
        "\n",
        "# mengubah data target (y) dari bentuk kategorikal menjadi bentuk numerik menggunakan LabelEncoder\n",
        "label_encoder = LabelEncoder()\n",
        "y = label_encoder.fit_transform(y)\n",
        "\n",
        "# mengubah setiap kolom dalam X menjadi format numerik menggunakan LabelEncoder.\n",
        "X = X.apply(LabelEncoder().fit_transform)\n",
        "\n",
        "# membagi dataset menjadi dua bagian: data pelatihan (training set) dan data pengujian (test set).\n",
        "X_train, X_test, Y_train, Y_test = train_test_split(X, y, test_size=0.2, random_state=7)\n",
        "\n",
        "# Define models\n",
        "models = [\n",
        "    ('KNN', KNeighborsClassifier()),\n",
        "    ('NB', GaussianNB()),\n",
        "    ('SVM', SVC())\n",
        "]\n",
        "\n",
        "# Kode ini melakukan k-fold cross-validation untuk mengevaluasi beberapa model dengan menggunakan metrik akurasi.\n",
        "# Setiap model diuji menggunakan 10 lipatan (folds), dan hasilnya berupa rata-rata akurasi dan standar deviasi dari setiap lipatan yang dicetak\n",
        "results = []\n",
        "names = []\n",
        "scoring = 'accuracy'\n",
        "\n",
        "for name, model in models:\n",
        "    kfold = KFold(n_splits=10, shuffle=True, random_state=7)\n",
        "    cv_results = cross_val_score(model, X_train, Y_train, cv=kfold, scoring=scoring)\n",
        "    results.append(cv_results)\n",
        "    names.append(name)\n",
        "    print(f\"{name}: {cv_results.mean():.4f} ({cv_results.std():.4f})\")"
      ],
      "metadata": {
        "colab": {
          "base_uri": "https://localhost:8080/"
        },
        "id": "Q5xFOZRvdT9b",
        "outputId": "82e779f9-d8c4-41fa-c93c-06c2da9f4d4b"
      },
      "execution_count": 30,
      "outputs": [
        {
          "output_type": "stream",
          "name": "stdout",
          "text": [
            "KNN: 0.9060 (0.0315)\n",
            "NB: 0.6223 (0.0245)\n",
            "SVM: 0.9067 (0.0242)\n"
          ]
        }
      ]
    },
    {
      "cell_type": "code",
      "source": [
        "from sklearn.metrics import accuracy_score, confusion_matrix, classification_report\n",
        "\n",
        "# membagi dataset menjadi dua bagian: data pelatihan (training set) dan data pengujian (test set).\n",
        "X_train, X_validation, Y_train, Y_validation = train_test_split(X, y, test_size=0.2, random_state=7)\n",
        "\n",
        "# Kode ini melatih model Support Vector Machine (SVM) menggunakan data pelatihan X_train dan Y_train.\n",
        "# Setelah menjalankan svm.fit(), model SVM siap digunakan untuk melakukan prediksi pada data baru atau data uji.\n",
        "svm = SVC()\n",
        "svm.fit(X_train, Y_train)\n",
        "\n",
        "# Membuat predictions\n",
        "predictions = svm.predict(X_validation)\n",
        "\n",
        "# Menampilkan hasil, berupa accuracy score, confusion matrix, dan classification report\n",
        "print(\"Accuracy Score:\", accuracy_score(Y_validation, predictions))\n",
        "print(\"\\nConfusion Matrix:\")\n",
        "print(confusion_matrix(Y_validation, predictions))\n",
        "print(\"\\nClassification Report:\")\n",
        "print(classification_report(Y_validation, predictions))\n"
      ],
      "metadata": {
        "colab": {
          "base_uri": "https://localhost:8080/"
        },
        "id": "a9YLiSaxfxJc",
        "outputId": "3410fc23-bdd8-40ea-f7a1-b1221b68acdb"
      },
      "execution_count": 34,
      "outputs": [
        {
          "output_type": "stream",
          "name": "stdout",
          "text": [
            "Accuracy Score: 0.953757225433526\n",
            "\n",
            "Confusion Matrix:\n",
            "[[ 70   0   7   0]\n",
            " [  4   2   0   2]\n",
            " [  1   0 245   0]\n",
            " [  2   0   0  13]]\n",
            "\n",
            "Classification Report:\n",
            "              precision    recall  f1-score   support\n",
            "\n",
            "           0       0.91      0.91      0.91        77\n",
            "           1       1.00      0.25      0.40         8\n",
            "           2       0.97      1.00      0.98       246\n",
            "           3       0.87      0.87      0.87        15\n",
            "\n",
            "    accuracy                           0.95       346\n",
            "   macro avg       0.94      0.76      0.79       346\n",
            "weighted avg       0.95      0.95      0.95       346\n",
            "\n"
          ]
        }
      ]
    },
    {
      "cell_type": "code",
      "source": [
        "from sklearn.neighbors import KNeighborsClassifier\n",
        "from sklearn.naive_bayes import GaussianNB\n",
        "from sklearn.svm import SVC\n",
        "from sklearn.linear_model import LogisticRegression\n",
        "from sklearn.metrics import accuracy_score, confusion_matrix, classification_report\n",
        "from sklearn.tree import DecisionTreeClassifier\n",
        "from sklearn.metrics import accuracy_score, confusion_matrix, classification_report\n",
        "from sklearn.model_selection import train_test_split, KFold, cross_val_score\n",
        "from sklearn.preprocessing import LabelEncoder\n",
        "import pandas as pd\n",
        "\n",
        "url = \"https://archive.ics.uci.edu/ml/machine-learning-databases/car/car.data\"\n",
        "names = [\"buying\", \"maint\", \"doors\", \"persons\", \"lug_boot\", \"safety\", \"class\"]\n",
        "dataset = pd.read_csv(url, names=names)\n",
        "\n",
        "# Encode fitur yang kategorikal menjadi numerik\n",
        "label_encoder = LabelEncoder()\n",
        "for column in dataset.columns:\n",
        "    dataset[column] = label_encoder.fit_transform(dataset[column])\n",
        "\n",
        "# memisahkan fitur (X) dan label (Y) dari dataset\n",
        "# Hasilnya adalah variabel X yang berisi fitur dan Y yang berisi target yang akan digunakan dalam pelatihan model machine learning.\n",
        "X = dataset.drop('class', axis=1)\n",
        "Y = dataset['class']\n",
        "\n",
        "# membagi dataset menjadi data pelatihan dan data validasi\n",
        "# Hasilnya yaitu X_train dan Y_train:\n",
        "# Data pelatihan untuk melatih model.\n",
        "# X_validation dan Y_validation: Data validasi untuk mengevaluasi kinerja model setelah pelatihan.\n",
        "X_train, X_validation, Y_train, Y_validation = train_test_split(X, Y, test_size=0.2, random_state=7)\n",
        "\n",
        "# Define the models to evaluate\n",
        "models = [\n",
        "    ('KNN', KNeighborsClassifier()),\n",
        "    ('NB', GaussianNB()),\n",
        "    ('SVM', SVC()),\n",
        "    ('LR', LogisticRegression(max_iter=200)),\n",
        "    ('DT', DecisionTreeClassifier())\n",
        "]\n",
        "\n",
        "# melakukan k-fold cross-validation pada beberapa model klasifikasi dan menampilkan hasil evaluasi akurasi dari masing-masing model.\n",
        "# Hasil dari kode tersebut akan memberikan output berupa akurasi rata-rata dan standar deviasi untuk setiap model yang diuji dengan menggunakan k-fold cross-validation.\n",
        "results = []\n",
        "names = []\n",
        "scoring = 'accuracy'\n",
        "\n",
        "print(\"Cross-Validation Results:\")\n",
        "for name, model in models:\n",
        "    kfold = KFold(n_splits=10, shuffle=True, random_state=7)\n",
        "    cv_results = cross_val_score(model, X_train, Y_train, cv=kfold, scoring=scoring)\n",
        "    results.append(cv_results)\n",
        "    names.append(name)\n",
        "    print(f\"{name}: {cv_results.mean():.4f} ({cv_results.std():.4f})\")\n",
        "\n",
        "# kode ini melatih beberapa model klasifikasi menggunakan data pelatihan, kemudian mengevaluasi kinerjanya dengan menggunakan data validasi, mencetak hasil akurasi, matriks kebingungannya, dan laporan klasifikasi.\n",
        "# Laporan ini mencakup metrik seperti precision, recall, dan F1-score untuk memberikan gambaran menyeluruh tentang kemampuan model dalam mengklasifikasikan data.\n",
        "print(\"\\nDetailed Evaluation on Validation Data:\")\n",
        "for name, model in models:\n",
        "    model.fit(X_train, Y_train)\n",
        "    predictions = model.predict(X_validation)\n",
        "    print(f\"\\n{name} Evaluation:\")\n",
        "    print(\"Accuracy:\", accuracy_score(Y_validation, predictions))\n",
        "    print(\"Confusion Matrix:\\n\", confusion_matrix(Y_validation, predictions))\n",
        "\n",
        "    # menghasilkan laporan metrik evaluasi klasifikasi (precision, recall, f1-score) untuk masing-masing kelas, dengan opsi untuk menangani pembagian dengan nol menggunakan parameter zero_division.\n",
        "    print(\"Classification Report:\\n\", classification_report(Y_validation, predictions, zero_division=1))\n"
      ],
      "metadata": {
        "colab": {
          "base_uri": "https://localhost:8080/"
        },
        "id": "gUeQKtrDhpKo",
        "outputId": "f1773f4b-6d16-4a66-a3e7-b03b8d0d24a1"
      },
      "execution_count": 37,
      "outputs": [
        {
          "output_type": "stream",
          "name": "stdout",
          "text": [
            "Cross-Validation Results:\n",
            "KNN: 0.9060 (0.0315)\n",
            "NB: 0.6223 (0.0245)\n",
            "SVM: 0.9067 (0.0242)\n",
            "LR: 0.6816 (0.0344)\n",
            "DT: 0.9689 (0.0164)\n",
            "\n",
            "Detailed Evaluation on Validation Data:\n",
            "\n",
            "KNN Evaluation:\n",
            "Accuracy: 0.9132947976878613\n",
            "Confusion Matrix:\n",
            " [[ 59   0  18   0]\n",
            " [  1   6   1   0]\n",
            " [  3   1 242   0]\n",
            " [  3   1   2   9]]\n",
            "Classification Report:\n",
            "               precision    recall  f1-score   support\n",
            "\n",
            "           0       0.89      0.77      0.83        77\n",
            "           1       0.75      0.75      0.75         8\n",
            "           2       0.92      0.98      0.95       246\n",
            "           3       1.00      0.60      0.75        15\n",
            "\n",
            "    accuracy                           0.91       346\n",
            "   macro avg       0.89      0.77      0.82       346\n",
            "weighted avg       0.91      0.91      0.91       346\n",
            "\n",
            "\n",
            "NB Evaluation:\n",
            "Accuracy: 0.6098265895953757\n",
            "Confusion Matrix:\n",
            " [[  6   0  25  46]\n",
            " [  1   0   1   6]\n",
            " [  1   0 190  55]\n",
            " [  0   0   0  15]]\n",
            "Classification Report:\n",
            "               precision    recall  f1-score   support\n",
            "\n",
            "           0       0.75      0.08      0.14        77\n",
            "           1       1.00      0.00      0.00         8\n",
            "           2       0.88      0.77      0.82       246\n",
            "           3       0.12      1.00      0.22        15\n",
            "\n",
            "    accuracy                           0.61       346\n",
            "   macro avg       0.69      0.46      0.30       346\n",
            "weighted avg       0.82      0.61      0.63       346\n",
            "\n",
            "\n",
            "SVM Evaluation:\n",
            "Accuracy: 0.953757225433526\n",
            "Confusion Matrix:\n",
            " [[ 70   0   7   0]\n",
            " [  4   2   0   2]\n",
            " [  1   0 245   0]\n",
            " [  2   0   0  13]]\n",
            "Classification Report:\n",
            "               precision    recall  f1-score   support\n",
            "\n",
            "           0       0.91      0.91      0.91        77\n",
            "           1       1.00      0.25      0.40         8\n",
            "           2       0.97      1.00      0.98       246\n",
            "           3       0.87      0.87      0.87        15\n",
            "\n",
            "    accuracy                           0.95       346\n",
            "   macro avg       0.94      0.76      0.79       346\n",
            "weighted avg       0.95      0.95      0.95       346\n",
            "\n",
            "\n",
            "LR Evaluation:\n",
            "Accuracy: 0.7398843930635838\n",
            "Confusion Matrix:\n",
            " [[ 14   0  57   6]\n",
            " [  1   0   7   0]\n",
            " [  7   0 238   1]\n",
            " [  6   0   5   4]]\n",
            "Classification Report:\n",
            "               precision    recall  f1-score   support\n",
            "\n",
            "           0       0.50      0.18      0.27        77\n",
            "           1       1.00      0.00      0.00         8\n",
            "           2       0.78      0.97      0.86       246\n",
            "           3       0.36      0.27      0.31        15\n",
            "\n",
            "    accuracy                           0.74       346\n",
            "   macro avg       0.66      0.35      0.36       346\n",
            "weighted avg       0.70      0.74      0.68       346\n",
            "\n",
            "\n",
            "DT Evaluation:\n",
            "Accuracy: 0.9826589595375722\n",
            "Confusion Matrix:\n",
            " [[ 75   0   2   0]\n",
            " [  1   7   0   0]\n",
            " [  2   1 243   0]\n",
            " [  0   0   0  15]]\n",
            "Classification Report:\n",
            "               precision    recall  f1-score   support\n",
            "\n",
            "           0       0.96      0.97      0.97        77\n",
            "           1       0.88      0.88      0.88         8\n",
            "           2       0.99      0.99      0.99       246\n",
            "           3       1.00      1.00      1.00        15\n",
            "\n",
            "    accuracy                           0.98       346\n",
            "   macro avg       0.96      0.96      0.96       346\n",
            "weighted avg       0.98      0.98      0.98       346\n",
            "\n"
          ]
        }
      ]
    }
  ],
  "metadata": {
    "colab": {
      "provenance": []
    },
    "kernelspec": {
      "display_name": "Python 3",
      "name": "python3"
    },
    "language_info": {
      "name": "python"
    }
  },
  "nbformat": 4,
  "nbformat_minor": 0
}